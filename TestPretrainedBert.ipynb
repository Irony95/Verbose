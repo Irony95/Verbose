{
 "cells": [
  {
   "cell_type": "code",
   "execution_count": 18,
   "id": "9845d3a9",
   "metadata": {},
   "outputs": [
    {
     "name": "stderr",
     "output_type": "stream",
     "text": [
      "No model was supplied, defaulted to distilbert-base-cased-distilled-squad and revision 626af31 (https://huggingface.co/distilbert-base-cased-distilled-squad).\n",
      "Using a pipeline without specifying a model name and revision in production is not recommended.\n"
     ]
    },
    {
     "name": "stdout",
     "output_type": "stream",
     "text": [
      "what are the characteristics of microcontrollers\n",
      " \n",
      " \n",
      " A microcontroller is often small and low cost\n",
      "{'score': 0.16927465796470642, 'start': 1247, 'end': 1265, 'answer': 'small and low cost'}\n"
     ]
    },
    {
     "name": "stderr",
     "output_type": "stream",
     "text": [
      "\n",
      "KeyboardInterrupt\n",
      "\n"
     ]
    }
   ],
   "source": [
    "from transformers import pipeline\n",
    "\n",
    "question_answerer = pipeline(\"question-answering\")\n",
    "context = \"\"\"\n",
    "Microcontroller Applications - ET1010  ET0884  Singapore Polytechnic  \n",
    " \n",
    " \n",
    "ET1010  ET0884  Microcontroller Applications   Page 11 of 140 \n",
    " \n",
    " \n",
    "  \n",
    "Figure 1.3 Microprocessor as part of a personal computer  \n",
    " \n",
    "1.4 Common characteristics of a micr ocontroller  \n",
    " \n",
    "Microcontrollers share the following characteristics \n",
    "  \n",
    " Microcontrollers are embedded inside some other device often a consumer \n",
    "product so that they can control the features or actions of the product. Therefore, another popular name for a mi crocontroller is embedded controller.  \n",
    " \n",
    " Microcontrollers are dedicated to one task and run one specific program. The program is stored in non-volatile memory e.g. ROM  flash and generally does not change.  \n",
    " \n",
    " Microcontrollers are often low -power devices. A desktop PC might consume 50 \n",
    "watts of electricity but a battery -operated microcontroller might consume 50 \n",
    "milliwatts.  \n",
    " \n",
    " A microcontroller works with fixed input and output devices. It reads the status of \n",
    "the input devices and sends control signals to the output devices. For example, a \n",
    "microwave oven controller takes input from a keypad, displays output on an LCD \n",
    "display and controls a relay that turns the microwave generator on and off. \n",
    " \n",
    " A microcontroller is often small and low cost. The components are chosen to \n",
    "minimize size and to be as inexpensive as possible. \n",
    " \n",
    "1.5 Typical applications of a microcontroller  \n",
    " \n",
    "Microcontrollers are found in almost all smart electronic devices. From microwave ovens \n",
    "to automotive braking systems, they are around us doing jobs that make our lives more convenient and safer. Typically, a microcontroller receives inputs from sensors e.g. a \n",
    "temperature sensor, makes some intelligent decisions e.g. is the temperature too \n",
    "high?, and then drives some outputs  mechanism to cause something to happen e.g. \n",
    "turn on a fan. Monitor  \n",
    "Mouse  \n",
    "Keyboard  \n",
    " Mother board \n",
    "inside the PC \n",
    "Microprocessor  Connections for other \n",
    "IO peripherals  \n",
    " \n",
    "Peripheral \n",
    "devices  \n",
    "\"\"\"\n",
    "while (True):\n",
    "    question = input()\n",
    "    if (question == \"\"):\n",
    "        break;\n",
    "    answer = question_answerer(question=question, context=context)\n",
    "    splitted = context.split(\".\")\n",
    "    for sentence in splitted:\n",
    "        if (answer[\"answer\"] in sentence):\n",
    "            print(sentence)\n",
    "    print(answer)"
   ]
  },
  {
   "cell_type": "code",
   "execution_count": null,
   "id": "333f45c7",
   "metadata": {},
   "outputs": [],
   "source": []
  }
 ],
 "metadata": {
  "kernelspec": {
   "display_name": "Python 3 (ipykernel)",
   "language": "python",
   "name": "python3"
  },
  "language_info": {
   "codemirror_mode": {
    "name": "ipython",
    "version": 3
   },
   "file_extension": ".py",
   "mimetype": "text/x-python",
   "name": "python",
   "nbconvert_exporter": "python",
   "pygments_lexer": "ipython3",
   "version": "3.10.9"
  }
 },
 "nbformat": 4,
 "nbformat_minor": 5
}
