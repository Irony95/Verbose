{
 "cells": [
  {
   "cell_type": "code",
   "execution_count": 3,
   "id": "87dbba4e",
   "metadata": {},
   "outputs": [],
   "source": [
    "from sklearn.feature_extraction.text import CountVectorizer\n",
    "from sklearn.metrics.pairwise import cosine_similarity\n",
    "from sentence_transformers import SentenceTransformer\n",
    "from keybert import KeyBERT\n",
    "from keyphrase_vectorizers import KeyphraseCountVectorizer\n",
    "\n",
    "import numpy as np\n",
    "import itertools"
   ]
  },
  {
   "cell_type": "code",
   "execution_count": 4,
   "id": "6bd22cbf",
   "metadata": {},
   "outputs": [],
   "source": [
    "topic2 = \"\"\"\n",
    "Topic 2: Introduction to Pharmacodynamics1Pharmacology – An overview2Drugs act on cellsCytoplasm : encloses the contents of the cellNucleus :acts as the 'control centre' of the cell.-contains the genetic code, DNA and blueprintsfor construction of all the cell's proteins .Boundary wall called the cell membrane :made up of phospholipids and proteins.3Biological targets of drugs Receptors EnzymesProteinsDrug4ReceptorsReceptors are proteins usually on the cell membrane that are involved in communication and coordination between and within cells\n",
    "Video5EnzymesEnzymes are proteins that catalyze chemical reactions in the cell\n",
    "6Active SiteWhere drug bindsVideo – changes in protein conformation7Drug Receptor TheoryMolecules that interact with receptors are called ligands.Each receptor commonly has at least 1 naturally occurringligand that interacts with its binding site\n",
    "This is called theligand binding site\n",
    "When a ligand binds, it switches on the receptor and a message is propagated.8it changes the shape of the receptorWhen the ligand binds,protein once it has binds into the binding site\n",
    "It does not fit thebinding site exactly\n",
    "Instead, as it binds at the site, various attractionsbetween the ligand the functional groups on the binding site pulltoward each other, distorting the shape of the rest of the protein.Effect of a ligand-receptor interaction:• Activation of a membrane bound enzyme.9• Release of secondary messengers within the cell’s membrane which migrate to other parts of the membrane and either activate or inhibit further enzymesVideoG-Protein10• Open (or close) an ion channel through the membrane, allowing hydrophilic ions to pass through the hydrophobic cell membrane.VideoVideo211Agonist vs Antagonist Agonists and antagonists are ligands of a receptor.  Most drugs that you see in the market are either agonists or antagonists of either receptors, or enzymes.Natural ligand = endogenous ligand12Agonist Agonists often have structures that are similar to that of the endogenous ligand.  Endogenous ligands are naturally occurring molecules in the body that have innate biological functions.  An agonist is a molecule that gives rise to biological effect\n",
    "It mimics the endogenous ligand.  Both endogenous ligand and agonists produces similar biological effect.  When the biological response is lacking in a disease, an agonist drug can restore the biological function.13Antagonist Binds to the receptor but does not produce a biological effect.  Prevents the binding of the endogenous ligand or agonist. Blocks the action of a receptor\n",
    "This would reduce the effect of an endogenous ligand.  When the biological response is too overwhelming, a drug that serves as an antagonist would restore the biological function.14Difference between Biological Effect and Biological Response15Competitive vs Non-competitiveAntagonists / InhibitorsCompetitiveNon-competitive16Summary of Agonist & Antagonists17SummaryCompetitiveNon-competitiveAgonistAntagonist• Activation of Membrane-bound enzyme• Release of Secondary Messengers• Open/Close Ion-channels18• Activation of membrane Antagonistbound enzyme• Endogenous ligand• Non-competitive 19• Opening Ion Channel• Endogenous ligand• Competitive Antagonist20• Release of secondary messengers• Agonist• Competitive Antagonist21Pharmacodynamics of drug bindingThe binding of a drug molecule to the active site of a receptor is classified into 2 types: Irreversible binding and reversible binding.Irreversible binding Involves strong covalent bondsDrug molecule cannot detach from the receptor active siteDrug + Receptor (Drug – Receptor) Complex22Reversible bindingInvolves ionic interaction, hydrogen bonds, ion dipole interactions, van der waals interactions and permanent dipole interacts.Drug molecule can be unbound from the active site because drug binding and unbinding is in an equilibrium process.Drug + Receptor (Drug – Receptor) ComplexLe Chatelier’s principle?Biological EffectWhy is it much more favourable to have a drug that binds reversibly at the receptor?Why do potent drugs usually require a lower dose and weaker drug require a higher dose?23Why do potent drugs usually require a lower dose and weaker drug require a higher dose?Strong Drug ADrug + Receptor(Drug – Receptor) ComplexDrug + Receptor(Drug – Receptor) ComplexWeak Drug B24 The strength of the interaction between a drug molecule and its receptor can be determined the equilibrium constant , Kd for the interaction:Kd reflects how strong the drug molecule have bound.Drug + Receptor (Drug – Receptor) ComplexKd(Dissociation reaction – backward reaction)25Dose Response CurveCopy the graph on to your lecture notes26Dose Response Curve EC50 = The plasma drug concentration required to achieve 50% of the maximum biological response. ED50 = The effective dose required to achieve 50% of the maximum biological response. Question 1: If I have 2 similar agonists “A” and “B” and the dose response curve of drug A is provided in figure 2.12, how would the graph of B look like if B is a more potent drug? [Assuming that both give the same maximum biological response]27The lower the EC50 value, the stronger the agonist28 Question 2: How would a dose response curve of an antagonist drug look like?The lower the IC50 value, the stronger the antagonist29 IC50 (half maximal inhibitory concentration) is the concentration of the drug required to achieve 50% inhibition\n",
    "This applies for competitive enzyme inhibitors and competitive antagonists.  Question 3: If I have 2 similar antagonists “A” and “B”, and B is a stronger antagonist than A, how would the dose response curve look like? Indicate in your graph above.30SummaryChemistryAgonist vs AntagonistCompetitive vs Non-competitive•••Activation of Membrane-bound enzymeRelease of Secondary MessengersOpen/Close Ion-channelsDrug + Receptor(Drug – Receptor) Complex(Drug Topics)Intermolecular Interactions(Next Topic)∑ (Signals)Biological EffectBiological ResponseBiology31\n",
    "\n",
    "      \"\"\"\n",
    "\n",
    "microcontrollers = \"\"\"\n",
    "1.1 What is a micro controller?  \n",
    " \n",
    "A microcontroller MCU or  C is a small computer on a single integrated circuit IC \n",
    "consisting internally of a relatively simple CPU, clock, timers, IO ports and memory \n",
    "program memory in the form of flash, and a small amount of data memory in the form of \n",
    "RAM. Microcontrollers are designed for small or dedicated applications.  \n",
    " \n",
    "Thus, in contrast to the micro-processor used in personal computers PC and other \n",
    "high-performance or general purpose applications , simplicity is emphasized in \n",
    "microcontrollers.  \n",
    " \n",
    "Some microcontrollers may use four -bit words and operate at clock rate as low as 4 kHz, \n",
    "as this is adequate for many typical applications, enabling low power current \n",
    "consumption in the micro Ampere range. They will generally have the ability to retain \n",
    "functionality while waiting for an event such as a button press or other interrupt power \n",
    "consumption while sleeping CPU clock and most peripherals off may just be nanowatts, \n",
    "making many of them well suited for long lasting battery applications.  \n",
    " \n",
    "Other microcontrollers may serve performance-critical roles, where they may need to act \n",
    "more like a digital signal processor DSP, with higher clock speeds and power \n",
    "consumption. Microcontrollers are used in automatic ally controlled products and devices, \n",
    "such as automobile engine control systems, implantable medical devices, remote controls, office machines, appliances, power tools and toys.  \n",
    " \n",
    "By reducing the size and cost compared to a design that uses a separate micr o-\n",
    "processor, memory, and inputoutput devices, microcontrollers make it economical to \n",
    "digitally control even more devices and processes. \n",
    " \n",
    "Mixed signal microcontrollers are common, integrating analogue components needed to \n",
    "control non- digital electronic sys tems. \n",
    "\n",
    "\"\"\""
   ]
  },
  {
   "cell_type": "code",
   "execution_count": 49,
   "id": "35cc95d6",
   "metadata": {},
   "outputs": [],
   "source": [
    "n_gram_range = (1, 1)\n",
    "stop_words = \"english\"\n",
    "\n",
    "# Extract candidate words/phrases\n",
    "count = CountVectorizer(ngram_range=n_gram_range, stop_words=stop_words).fit([microcontrollers])\n",
    "candidates = count.get_feature_names_out()"
   ]
  },
  {
   "cell_type": "code",
   "execution_count": 50,
   "id": "1c47281c",
   "metadata": {},
   "outputs": [],
   "source": [
    "model = SentenceTransformer('distilbert-base-nli-mean-tokens')\n",
    "doc_embedding = model.encode([microcontrollers])\n",
    "candidate_embeddings = model.encode(candidates)"
   ]
  },
  {
   "cell_type": "code",
   "execution_count": 51,
   "id": "515c4312",
   "metadata": {},
   "outputs": [
    {
     "data": {
      "text/plain": [
       "['battery',\n",
       " 'economical',\n",
       " 'digitally',\n",
       " 'toys',\n",
       " 'tools',\n",
       " 'small',\n",
       " 'cpu',\n",
       " 'computer',\n",
       " 'pc',\n",
       " 'nanowatts']"
      ]
     },
     "execution_count": 51,
     "metadata": {},
     "output_type": "execute_result"
    }
   ],
   "source": [
    "def max_sum_sim(doc_embedding, word_embeddings, words, top_n, nr_candidates):\n",
    "    # Calculate distances and extract keywords\n",
    "    distances = cosine_similarity(doc_embedding, candidate_embeddings)\n",
    "    distances_candidates = cosine_similarity(candidate_embeddings, \n",
    "                                            candidate_embeddings)\n",
    "\n",
    "    # Get top_n words as candidates based on cosine similarity\n",
    "    words_idx = list(distances.argsort()[0][-nr_candidates:])\n",
    "    words_vals = [candidates[index] for index in words_idx]\n",
    "    distances_candidates = distances_candidates[np.ix_(words_idx, words_idx)]\n",
    "\n",
    "    # Calculate the combination of words that are the least similar to each other\n",
    "    min_sim = np.inf\n",
    "    candidate = None\n",
    "    for combination in itertools.combinations(range(len(words_idx)), top_n):\n",
    "        sim = sum([distances_candidates[i][j] for i in combination for j in combination if i != j])\n",
    "        if sim < min_sim:\n",
    "            candidate = combination\n",
    "            min_sim = sim\n",
    "\n",
    "    return [words_vals[idx] for idx in candidate]\n",
    "\n",
    "max_sum_sim(doc_embedding, candidate_embeddings,candidates, top_n=10, nr_candidates=20)"
   ]
  },
  {
   "cell_type": "code",
   "execution_count": 6,
   "id": "83aa4775",
   "metadata": {},
   "outputs": [
    {
     "data": {
      "text/plain": [
       "[('protein conformation7drug receptor theorymolecules', 0.6111),\n",
       " ('drug bindingthe binding', 0.5496),\n",
       " ('drug molecule', 0.52),\n",
       " ('6active sitewhere drug bindsvideo', 0.506),\n",
       " ('receptors', 0.4974)]"
      ]
     },
     "execution_count": 6,
     "metadata": {},
     "output_type": "execute_result"
    }
   ],
   "source": [
    "kw_model = KeyBERT()\n",
    "kw_model.extract_keywords(docs=[topic2], vectorizer=KeyphraseCountVectorizer())"
   ]
  },
  {
   "cell_type": "code",
   "execution_count": null,
   "id": "8b629da0",
   "metadata": {},
   "outputs": [],
   "source": []
  }
 ],
 "metadata": {
  "kernelspec": {
   "display_name": "Python 3 (ipykernel)",
   "language": "python",
   "name": "python3"
  },
  "language_info": {
   "codemirror_mode": {
    "name": "ipython",
    "version": 3
   },
   "file_extension": ".py",
   "mimetype": "text/x-python",
   "name": "python",
   "nbconvert_exporter": "python",
   "pygments_lexer": "ipython3",
   "version": "3.10.9"
  }
 },
 "nbformat": 4,
 "nbformat_minor": 5
}
