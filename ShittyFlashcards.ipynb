{
 "cells": [
  {
   "cell_type": "code",
   "execution_count": 1,
   "id": "0e8bd333",
   "metadata": {},
   "outputs": [],
   "source": [
    "import PyPDF2\n",
    "import re\n",
    "import numpy as np\n",
    "from keybert import KeyBERT\n",
    "from keyphrase_vectorizers import KeyphraseCountVectorizer\n",
    "from transformers import pipeline"
   ]
  },
  {
   "cell_type": "code",
   "execution_count": 15,
   "id": "c1d64e25",
   "metadata": {
    "scrolled": false
   },
   "outputs": [
    {
     "name": "stdout",
     "output_type": "stream",
     "text": [
      "PROPERTY VALUATION   Concepts & Principles  \n",
      "  \n",
      " \n",
      "REB/ PV1 Concepts_Principles(2020)  1-9                     Official (Closed) - Non Sensitive  \n",
      "Business Valuation  \n",
      " \n",
      "Business valuation is concerned with  estimating the worth of \n",
      "an entity or a business concern. Unlike a real property, a \n",
      "business comprises both tangible assets as well as \n",
      "intangible assets such as patents, copy rights and others. \n",
      "Hence, the most significant value base of a business is not \n",
      "the location at which the business is operated but the \n",
      "expected profitability and future cash flow expected of the \n",
      "business operations.    \n",
      " \n",
      "The main challenge in business valuation is that, given the \n",
      "nature of a business, the valuation of its worth is subjec t to \n",
      "variations because of the composition of assets, purpose of \n",
      "valuation and methods of valuation used.  \n",
      " \n",
      " \n",
      "References  \n",
      "Singapore Institute of Surveyors and Valuers. (2015).  Valuation Standards And \n",
      "Practic e Guidelines.  (2015  Edition). Candid Creation Publis hing.  \n",
      " \n",
      "Building and Construction Authority. (2014) . Third Green Building Masterplan.  \n",
      "(http://ww.bca.gov.sg)  \n",
      " \n"
     ]
    }
   ],
   "source": [
    "filename = \"PV1_Concepts_Principles_2020_1.pdf\"\n",
    "pdfObj = open(\"C:\\\\Users\\\\leong\\\\Documents\\\\mystuff\\\\school\\\\yr3\\\\Sem1\\\\IENT\\\\Verbose\\\\pdfs\\\\\" + filename, \"rb\")\n",
    "pdfReader = PyPDF2.PdfReader(pdfObj)\n",
    "text = pdfReader.pages[8].extract_text()\n",
    "text.replace(\"\\n\", \" \")\n",
    "\n",
    "print(text)"
   ]
  },
  {
   "cell_type": "code",
   "execution_count": 16,
   "id": "8c29ba9e",
   "metadata": {},
   "outputs": [
    {
     "name": "stdout",
     "output_type": "stream",
     "text": [
      "[('business valuation', 0.7625), ('concepts', 0.2276), ('third green building masterplan', 0.2053), ('copy rights', 0.0915), ('non sensitive', 0.0021)]\n"
     ]
    }
   ],
   "source": [
    "kw_model = KeyBERT()\n",
    "words = kw_model.extract_keywords(docs=[text], vectorizer=KeyphraseCountVectorizer(), use_mmr=True, diversity=0.7)\n",
    "\n",
    "print(words)"
   ]
  },
  {
   "cell_type": "code",
   "execution_count": 17,
   "id": "3159b1dc",
   "metadata": {},
   "outputs": [
    {
     "name": "stderr",
     "output_type": "stream",
     "text": [
      "No model was supplied, defaulted to distilbert-base-cased-distilled-squad and revision 626af31 (https://huggingface.co/distilbert-base-cased-distilled-squad).\n",
      "Using a pipeline without specifying a model name and revision in production is not recommended.\n"
     ]
    },
    {
     "name": "stdout",
     "output_type": "stream",
     "text": [
      "business valuation\n"
     ]
    }
   ],
   "source": [
    "question_answerer = pipeline(\"question-answering\")\n",
    "\n",
    "topic = words[0][0]\n",
    "print(topic)"
   ]
  },
  {
   "cell_type": "code",
   "execution_count": 18,
   "id": "37cd93c4",
   "metadata": {},
   "outputs": [
    {
     "name": "stdout",
     "output_type": "stream",
     "text": [
      "{'score': 0.3805297017097473, 'start': 207, 'end': 263, 'answer': 'estimating the worth of \\nan entity or a business concern'}\n"
     ]
    }
   ],
   "source": [
    "answer = question_answerer(question=f\"What is {topic}\", context=text)\n",
    "print(answer)"
   ]
  },
  {
   "cell_type": "code",
   "execution_count": 20,
   "id": "c2f3939b",
   "metadata": {},
   "outputs": [
    {
     "name": "stdout",
     "output_type": "stream",
     "text": [
      "PROPERTY VALUATION   Concepts & Principles  \n",
      "  \n",
      " \n",
      "REB/ PV1 Concepts_Principles(2020)  1-9                     Official (Closed) - Non Sensitive  \n",
      "Business Valuation  \n",
      " \n",
      "Business valuation is concerned with  estimating the worth of \n",
      "an entity or a business concern\n"
     ]
    }
   ],
   "source": [
    "sentences = text.split(\".\")\n",
    "answerSentence = \"\"\n",
    "for sentence in sentences:\n",
    "    if (answer['answer'] in sentence):\n",
    "        answerSentence = sentence\n",
    "        print(sentence)\n",
    "        break"
   ]
  },
  {
   "cell_type": "code",
   "execution_count": 21,
   "id": "79db946f",
   "metadata": {},
   "outputs": [
    {
     "name": "stdout",
     "output_type": "stream",
     "text": [
      "Title : business valuation\n",
      "--------------------------------------------------\n",
      "Answer: PROPERTY VALUATION   Concepts & Principles  \n",
      "  \n",
      " \n",
      "REB/ PV1 Concepts_Principles(2020)  1-9                     Official (Closed) - Non Sensitive  \n",
      "Business Valuation  \n",
      " \n",
      "Business valuation is concerned with  estimating the worth of \n",
      "an entity or a business concern\n"
     ]
    }
   ],
   "source": [
    "print(f\"Title : {topic}\")\n",
    "print(\"-\" * 50)\n",
    "print(f\"Answer: {answerSentence}\")"
   ]
  },
  {
   "cell_type": "code",
   "execution_count": null,
   "id": "3fa6b5ea",
   "metadata": {},
   "outputs": [],
   "source": []
  }
 ],
 "metadata": {
  "kernelspec": {
   "display_name": "Python 3 (ipykernel)",
   "language": "python",
   "name": "python3"
  },
  "language_info": {
   "codemirror_mode": {
    "name": "ipython",
    "version": 3
   },
   "file_extension": ".py",
   "mimetype": "text/x-python",
   "name": "python",
   "nbconvert_exporter": "python",
   "pygments_lexer": "ipython3",
   "version": "3.9.7"
  }
 },
 "nbformat": 4,
 "nbformat_minor": 5
}
