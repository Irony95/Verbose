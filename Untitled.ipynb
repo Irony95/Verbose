{
 "cells": [
  {
   "cell_type": "code",
   "execution_count": 1,
   "id": "416a6ff3",
   "metadata": {},
   "outputs": [],
   "source": [
    "import numpy as np\n",
    "import tensorflow as tf\n",
    "from tensorflow import keras\n",
    "from tensorflow.keras import layers"
   ]
  },
  {
   "cell_type": "code",
   "execution_count": 2,
   "id": "a49c8dab",
   "metadata": {},
   "outputs": [],
   "source": [
    "X = np.load(\"X.npy\").astype(np.float32)\n",
    "Y = np.load(\"Y.npy\").astype(np.float32)"
   ]
  },
  {
   "cell_type": "code",
   "execution_count": 19,
   "id": "3cc4d795",
   "metadata": {},
   "outputs": [
    {
     "name": "stdout",
     "output_type": "stream",
     "text": [
      "Model: \"sequential_7\"\n",
      "_________________________________________________________________\n",
      " Layer (type)                Output Shape              Param #   \n",
      "=================================================================\n",
      " lstm_6 (LSTM)               (None, 35, 128)           66560     \n",
      "                                                                 \n",
      " dropout_6 (Dropout)         (None, 35, 128)           0         \n",
      "                                                                 \n",
      " batch_normalization_6 (Batc  (None, 35, 128)          512       \n",
      " hNormalization)                                                 \n",
      "                                                                 \n",
      " dense_6 (Dense)             (None, 35, 1)             129       \n",
      "                                                                 \n",
      "=================================================================\n",
      "Total params: 67,201\n",
      "Trainable params: 66,945\n",
      "Non-trainable params: 256\n",
      "_________________________________________________________________\n"
     ]
    }
   ],
   "source": [
    "model = keras.Sequential()\n",
    "\n",
    "model.add((layers.LSTM(128, input_shape=X.shape[1:], return_sequences=True)))\n",
    "model.add(layers.Dropout(0.2))\n",
    "model.add(layers.BatchNormalization())\n",
    "\n",
    "model.add(layers.Dense(1, activation=\"sigmoid\"))\n",
    "\n",
    "model.summary()"
   ]
  },
  {
   "cell_type": "code",
   "execution_count": 22,
   "id": "9d64c647",
   "metadata": {},
   "outputs": [],
   "source": [
    "opt = keras.optimizers.Adam(learning_rate=0.01)\n",
    "model.compile(loss=\"binary_crossentropy\", optimizer='adam', metrics=['accuracy'])\n"
   ]
  },
  {
   "cell_type": "code",
   "execution_count": 23,
   "id": "74346977",
   "metadata": {},
   "outputs": [
    {
     "name": "stdout",
     "output_type": "stream",
     "text": [
      "Epoch 1/5\n",
      "78/78 [==============================] - 3s 21ms/step - loss: 0.0636 - accuracy: 0.9888\n",
      "Epoch 2/5\n",
      "78/78 [==============================] - 2s 21ms/step - loss: 0.0624 - accuracy: 0.9888\n",
      "Epoch 3/5\n",
      "78/78 [==============================] - 2s 21ms/step - loss: 0.0627 - accuracy: 0.9888\n",
      "Epoch 4/5\n",
      "78/78 [==============================] - 2s 22ms/step - loss: 0.0623 - accuracy: 0.9888\n",
      "Epoch 5/5\n",
      "78/78 [==============================] - 2s 21ms/step - loss: 0.0624 - accuracy: 0.9888\n"
     ]
    },
    {
     "data": {
      "text/plain": [
       "<keras.callbacks.History at 0x23d20953280>"
      ]
     },
     "execution_count": 23,
     "metadata": {},
     "output_type": "execute_result"
    }
   ],
   "source": [
    "model.fit(X, Y, batch_size=32, epochs=5)"
   ]
  },
  {
   "cell_type": "code",
   "execution_count": null,
   "id": "e167b775",
   "metadata": {},
   "outputs": [],
   "source": []
  }
 ],
 "metadata": {
  "kernelspec": {
   "display_name": "Python 3 (ipykernel)",
   "language": "python",
   "name": "python3"
  },
  "language_info": {
   "codemirror_mode": {
    "name": "ipython",
    "version": 3
   },
   "file_extension": ".py",
   "mimetype": "text/x-python",
   "name": "python",
   "nbconvert_exporter": "python",
   "pygments_lexer": "ipython3",
   "version": "3.10.9"
  }
 },
 "nbformat": 4,
 "nbformat_minor": 5
}
