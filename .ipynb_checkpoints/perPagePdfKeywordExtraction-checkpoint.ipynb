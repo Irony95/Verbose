{
 "cells": [
  {
   "cell_type": "code",
   "execution_count": 29,
   "id": "1fa80173",
   "metadata": {},
   "outputs": [],
   "source": [
    "import PyPDF2\n",
    "\n",
    "from IPython.display import clear_output\n",
    "from termcolor import colored\n",
    "\n",
    "from keybert import KeyBERT\n",
    "import spacy\n",
    "import pytextrank"
   ]
  },
  {
   "cell_type": "code",
   "execution_count": 40,
   "id": "afd1c9e2",
   "metadata": {},
   "outputs": [
    {
     "ename": "DeprecationError",
     "evalue": "PdfFileReader is deprecated and was removed in PyPDF2 3.0.0. Use PdfReader instead.",
     "output_type": "error",
     "traceback": [
      "\u001b[1;31m---------------------------------------------------------------------------\u001b[0m",
      "\u001b[1;31mDeprecationError\u001b[0m                          Traceback (most recent call last)",
      "Cell \u001b[1;32mIn[40], line 2\u001b[0m\n\u001b[0;32m      1\u001b[0m pdfObj \u001b[38;5;241m=\u001b[39m \u001b[38;5;28mopen\u001b[39m(\u001b[38;5;124m\"\u001b[39m\u001b[38;5;124mD:\u001b[39m\u001b[38;5;124m\\\u001b[39m\u001b[38;5;124mMyStuffs\u001b[39m\u001b[38;5;124m\\\u001b[39m\u001b[38;5;124mPythonScripts\u001b[39m\u001b[38;5;124m\\\u001b[39m\u001b[38;5;124mJunpyterNotebooks\u001b[39m\u001b[38;5;124m\\\u001b[39m\u001b[38;5;124mVerbose\u001b[39m\u001b[38;5;124m\\\u001b[39m\u001b[38;5;124mpdfs\u001b[39m\u001b[38;5;124m\\\u001b[39m\u001b[38;5;124mMAPP BoundNotes.pdf\u001b[39m\u001b[38;5;124m\"\u001b[39m, \u001b[38;5;124m\"\u001b[39m\u001b[38;5;124mrb\u001b[39m\u001b[38;5;124m\"\u001b[39m)\n\u001b[1;32m----> 2\u001b[0m pdfReader \u001b[38;5;241m=\u001b[39m \u001b[43mPyPDF2\u001b[49m\u001b[38;5;241;43m.\u001b[39;49m\u001b[43mPdfFileReader\u001b[49m\u001b[43m(\u001b[49m\u001b[43mpdfObj\u001b[49m\u001b[43m)\u001b[49m\n\u001b[0;32m      3\u001b[0m maxWordLength \u001b[38;5;241m=\u001b[39m \u001b[38;5;241m20\u001b[39m\n",
      "File \u001b[1;32m~\\AppData\\Local\\Programs\\Python\\Python39\\lib\\site-packages\\PyPDF2\\_reader.py:1974\u001b[0m, in \u001b[0;36mPdfFileReader.__init__\u001b[1;34m(self, *args, **kwargs)\u001b[0m\n\u001b[0;32m   1973\u001b[0m \u001b[38;5;28;01mdef\u001b[39;00m \u001b[38;5;21m__init__\u001b[39m(\u001b[38;5;28mself\u001b[39m, \u001b[38;5;241m*\u001b[39margs: Any, \u001b[38;5;241m*\u001b[39m\u001b[38;5;241m*\u001b[39mkwargs: Any) \u001b[38;5;241m-\u001b[39m\u001b[38;5;241m>\u001b[39m \u001b[38;5;28;01mNone\u001b[39;00m:\n\u001b[1;32m-> 1974\u001b[0m     \u001b[43mdeprecation_with_replacement\u001b[49m\u001b[43m(\u001b[49m\u001b[38;5;124;43m\"\u001b[39;49m\u001b[38;5;124;43mPdfFileReader\u001b[39;49m\u001b[38;5;124;43m\"\u001b[39;49m\u001b[43m,\u001b[49m\u001b[43m \u001b[49m\u001b[38;5;124;43m\"\u001b[39;49m\u001b[38;5;124;43mPdfReader\u001b[39;49m\u001b[38;5;124;43m\"\u001b[39;49m\u001b[43m,\u001b[49m\u001b[43m \u001b[49m\u001b[38;5;124;43m\"\u001b[39;49m\u001b[38;5;124;43m3.0.0\u001b[39;49m\u001b[38;5;124;43m\"\u001b[39;49m\u001b[43m)\u001b[49m\n\u001b[0;32m   1975\u001b[0m     \u001b[38;5;28;01mif\u001b[39;00m \u001b[38;5;124m\"\u001b[39m\u001b[38;5;124mstrict\u001b[39m\u001b[38;5;124m\"\u001b[39m \u001b[38;5;129;01mnot\u001b[39;00m \u001b[38;5;129;01min\u001b[39;00m kwargs \u001b[38;5;129;01mand\u001b[39;00m \u001b[38;5;28mlen\u001b[39m(args) \u001b[38;5;241m<\u001b[39m \u001b[38;5;241m2\u001b[39m:\n\u001b[0;32m   1976\u001b[0m         kwargs[\u001b[38;5;124m\"\u001b[39m\u001b[38;5;124mstrict\u001b[39m\u001b[38;5;124m\"\u001b[39m] \u001b[38;5;241m=\u001b[39m \u001b[38;5;28;01mTrue\u001b[39;00m  \u001b[38;5;66;03m# maintain the default\u001b[39;00m\n",
      "File \u001b[1;32m~\\AppData\\Local\\Programs\\Python\\Python39\\lib\\site-packages\\PyPDF2\\_utils.py:369\u001b[0m, in \u001b[0;36mdeprecation_with_replacement\u001b[1;34m(old_name, new_name, removed_in)\u001b[0m\n\u001b[0;32m    363\u001b[0m \u001b[38;5;28;01mdef\u001b[39;00m \u001b[38;5;21mdeprecation_with_replacement\u001b[39m(\n\u001b[0;32m    364\u001b[0m     old_name: \u001b[38;5;28mstr\u001b[39m, new_name: \u001b[38;5;28mstr\u001b[39m, removed_in: \u001b[38;5;28mstr\u001b[39m \u001b[38;5;241m=\u001b[39m \u001b[38;5;124m\"\u001b[39m\u001b[38;5;124m3.0.0\u001b[39m\u001b[38;5;124m\"\u001b[39m\n\u001b[0;32m    365\u001b[0m ) \u001b[38;5;241m-\u001b[39m\u001b[38;5;241m>\u001b[39m \u001b[38;5;28;01mNone\u001b[39;00m:\n\u001b[0;32m    366\u001b[0m \u001b[38;5;250m    \u001b[39m\u001b[38;5;124;03m\"\"\"\u001b[39;00m\n\u001b[0;32m    367\u001b[0m \u001b[38;5;124;03m    Raise an exception that a feature was already removed, but has a replacement.\u001b[39;00m\n\u001b[0;32m    368\u001b[0m \u001b[38;5;124;03m    \"\"\"\u001b[39;00m\n\u001b[1;32m--> 369\u001b[0m     \u001b[43mdeprecation\u001b[49m\u001b[43m(\u001b[49m\u001b[43mDEPR_MSG_HAPPENED\u001b[49m\u001b[38;5;241;43m.\u001b[39;49m\u001b[43mformat\u001b[49m\u001b[43m(\u001b[49m\u001b[43mold_name\u001b[49m\u001b[43m,\u001b[49m\u001b[43m \u001b[49m\u001b[43mremoved_in\u001b[49m\u001b[43m,\u001b[49m\u001b[43m \u001b[49m\u001b[43mnew_name\u001b[49m\u001b[43m)\u001b[49m\u001b[43m)\u001b[49m\n",
      "File \u001b[1;32m~\\AppData\\Local\\Programs\\Python\\Python39\\lib\\site-packages\\PyPDF2\\_utils.py:351\u001b[0m, in \u001b[0;36mdeprecation\u001b[1;34m(msg)\u001b[0m\n\u001b[0;32m    350\u001b[0m \u001b[38;5;28;01mdef\u001b[39;00m \u001b[38;5;21mdeprecation\u001b[39m(msg: \u001b[38;5;28mstr\u001b[39m) \u001b[38;5;241m-\u001b[39m\u001b[38;5;241m>\u001b[39m \u001b[38;5;28;01mNone\u001b[39;00m:\n\u001b[1;32m--> 351\u001b[0m     \u001b[38;5;28;01mraise\u001b[39;00m DeprecationError(msg)\n",
      "\u001b[1;31mDeprecationError\u001b[0m: PdfFileReader is deprecated and was removed in PyPDF2 3.0.0. Use PdfReader instead."
     ]
    }
   ],
   "source": [
    "pdfObj = open(\"D:\\MyStuffs\\PythonScripts\\JunpyterNotebooks\\Verbose\\pdfs\\MAPP BoundNotes.pdf\", \"rb\")\n",
    "pdfReader = PyPDF2.PdfReader(pdfObj)\n",
    "maxWordLength = 20"
   ]
  },
  {
   "cell_type": "code",
   "execution_count": 43,
   "id": "18e3ba9b",
   "metadata": {
    "scrolled": false
   },
   "outputs": [
    {
     "name": "stdout",
     "output_type": "stream",
     "text": [
      "Currently at page 1\n",
      "--------------------------------------------------\n",
      "[('et1010', 0.5473), ('microcontroller', 0.4864), ('engineering', 0.4684), ('et0884', 0.4251), ('electronic', 0.3727)]\n",
      "Currently at page 2\n",
      "--------------------------------------------------\n",
      "[('polytechnic', 0.4973), ('caring', 0.4134), ('learners', 0.3823), ('excellence', 0.3788), ('integrity', 0.3776)]\n",
      "Currently at page 3\n",
      "--------------------------------------------------\n",
      "[]\n",
      "Currently at page 4\n",
      "--------------------------------------------------\n",
      "[('microcontroller', 0.5434), ('microcontrollers', 0.5355), ('microprocessor', 0.4013), ('microchip', 0.3567), ('et1010', 0.3279)]\n",
      "Currently at page 5\n",
      "--------------------------------------------------\n",
      "[('et1010', 0.4078), ('et0884', 0.3822), ('gpio', 0.3729), ('output', 0.3594), ('microcontroller', 0.3474)]\n",
      "Currently at page 6\n",
      "--------------------------------------------------\n",
      "[('microcontroller', 0.4778), ('et1010', 0.4359), ('et0884', 0.3532), ('pic18f4550', 0.3177), ('programmable', 0.3171)]\n",
      "Currently at page 7\n",
      "--------------------------------------------------\n",
      "[('et1010', 0.4371), ('et0884', 0.3899), ('txreg', 0.3842), ('transmit', 0.3501), ('microcontroller', 0.3457)]\n",
      "Currently at page 8\n",
      "--------------------------------------------------\n",
      "[('microcontrollers', 0.7208), ('microcontroller', 0.7146), ('micro', 0.4894), ('processor', 0.4289), ('controller', 0.3809)]\n",
      "Currently at page 9\n",
      "--------------------------------------------------\n",
      "[('microcontrollers', 0.5803), ('microcontroller', 0.5708), ('microprocessor', 0.5495), ('microprocessors', 0.5463), ('processor', 0.421)]\n",
      "Currently at page 10\n",
      "--------------------------------------------------\n",
      "[('microprocessors', 0.6494), ('microprocessor', 0.6477), ('processors', 0.5842), ('processor', 0.5577), ('microcontroller', 0.5404)]\n",
      "Currently at page 11\n",
      "--------------------------------------------------\n",
      "[('microcontrollers', 0.6579), ('microcontroller', 0.6222), ('microprocessor', 0.4977), ('ocontroller', 0.3563), ('devices', 0.3444)]\n",
      "Currently at page 12\n",
      "--------------------------------------------------\n",
      "[('alarm', 0.4832), ('devices', 0.4442), ('microcontroller', 0.438), ('sensor', 0.4236), ('device', 0.4154)]\n",
      "Currently at page 13\n",
      "--------------------------------------------------\n",
      "[('lights', 0.329), ('traffic', 0.3276), ('diagram', 0.3112), ('et1010', 0.2789), ('microcontroller', 0.2525)]\n",
      "Currently at page 14\n",
      "--------------------------------------------------\n",
      "[('microcontroller', 0.4773), ('hardware', 0.4601), ('cad', 0.4578), ('devices', 0.3644), ('integrated', 0.3537)]\n",
      "Currently at page 15\n",
      "--------------------------------------------------\n",
      "[('microcontrollers', 0.5474), ('microcontroller', 0.5431), ('microchip', 0.5063), ('ocontrollers', 0.3782), ('compiler', 0.3696)]\n",
      "Currently at page 16\n",
      "--------------------------------------------------\n",
      "[('microprocessor', 0.5201), ('microcontroller', 0.5193), ('processor', 0.4559), ('hardware', 0.4429), ('devices', 0.3442)]\n",
      "Currently at page 17\n",
      "--------------------------------------------------\n",
      "[('microchip', 0.4942), ('microcontroller', 0.4704), ('pic18f4550', 0.4612), ('firmware', 0.3641), ('micro', 0.3509)]\n",
      "Currently at page 18\n",
      "--------------------------------------------------\n",
      "[('pic18f4550', 0.5357), ('pdip', 0.3299), ('pcb', 0.3203), ('et1010', 0.3037), ('pt', 0.2894)]\n",
      "Currently at page 19\n",
      "--------------------------------------------------\n",
      "[('pic18f2455', 0.5821), ('pic18f4550', 0.562), ('pic18f4455', 0.5617), ('pic18f', 0.5547), ('pic18f2550', 0.5538)]\n",
      "Currently at page 20\n",
      "--------------------------------------------------\n",
      "[('ic18f4550', 0.5108), ('microcontroller', 0.447), ('pic18f4550', 0.4419), ('et1010', 0.43), ('peripherals', 0.4161)]\n",
      "Currently at page 21\n",
      "--------------------------------------------------\n",
      "[('pic18f4550', 0.4966), ('et1010', 0.3744), ('microcontroller', 0.362), ('et0884', 0.3331), ('sdi', 0.3167)]\n"
     ]
    }
   ],
   "source": [
    "toBeReplaced = [\"(\", \")\", \",\", \".\", \"\\n\"]\n",
    "dataset  = []\n",
    "\n",
    "# load a spaCy model, depending on language, scale, etc.\n",
    "nlp = spacy.load(\"en_core_web_sm\")\n",
    "# add PyTextRank to the spaCy pipeline\n",
    "nlp.add_pipe(\"textrank\")\n",
    "allKeywords = []\n",
    "\n",
    "kw_model = KeyBERT()\n",
    "for index, page in enumerate(pdfReader.pages):\n",
    "    if (index > 20):\n",
    "        break;\n",
    "    print(f\"Currently at page {index+1}\")\n",
    "    print(\"-\" * 50)\n",
    "    text = pdfReader.pages[index].extract_text()  \n",
    "    text = text.replace(\"\\n\", \" \")\n",
    "    text = text.replace(\"\\t\", \" \")\n",
    "    keywords = kw_model.extract_keywords(text)\n",
    "    for word in keywords:\n",
    "        if (word[1] > 0.65):\n",
    "            allKeywords.append(word)\n",
    "    print(keywords)\n",
    "#     doc = nlp(text)\n",
    "#     for phrase in doc._.phrases[:10]:\n",
    "#         print(phrase.text) \n",
    "#     if (input() == \"n\"):\n",
    "#         break"
   ]
  },
  {
   "cell_type": "code",
   "execution_count": null,
   "id": "be99c878",
   "metadata": {},
   "outputs": [],
   "source": []
  }
 ],
 "metadata": {
  "kernelspec": {
   "display_name": "Python 3 (ipykernel)",
   "language": "python",
   "name": "python3"
  },
  "language_info": {
   "codemirror_mode": {
    "name": "ipython",
    "version": 3
   },
   "file_extension": ".py",
   "mimetype": "text/x-python",
   "name": "python",
   "nbconvert_exporter": "python",
   "pygments_lexer": "ipython3",
   "version": "3.9.8"
  }
 },
 "nbformat": 4,
 "nbformat_minor": 5
}
