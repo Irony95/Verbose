{
 "cells": [
  {
   "cell_type": "code",
   "execution_count": 1,
   "id": "0e8bd333",
   "metadata": {},
   "outputs": [],
   "source": [
    "import PyPDF2\n",
    "import re\n",
    "import numpy as np\n",
    "from keybert import KeyBERT\n",
    "from keyphrase_vectorizers import KeyphraseCountVectorizer\n",
    "from transformers import pipeline"
   ]
  },
  {
   "cell_type": "code",
   "execution_count": 2,
   "id": "c1d64e25",
   "metadata": {},
   "outputs": [
    {
     "name": "stdout",
     "output_type": "stream",
     "text": [
      "Microcontroller Applications - ET1010 / ET0884  Singapore Polytechnic  \n",
      "____________________________________________________________________ \n",
      " \n",
      "ET1010 / ET0884 – Microcontroller Applications   Page 8 of 140 1 Introduction to  Microcontrollers  \n",
      " \n",
      "1.1 What is a micro controller?  \n",
      " \n",
      "A microcontroller (MCU or µ C) is a small computer on a single integrated circuit (IC) \n",
      "consisting internally of a relatively simple CPU, clock, timers, I/O ports and memory \n",
      "(program memory in the form of flash, and a small amount of data memory in the form of \n",
      "RAM). Microcontrollers are designed for small or dedicated applications.  \n",
      " \n",
      "Thus, in contrast to the micro-processor used in personal computers (PC) and other \n",
      "high-performance or general purpose applications , simplicity is emphasized in \n",
      "microcontrollers.  \n",
      " \n",
      "Some microcontrollers may use four -bit words and operate at clock rate as low as 4 kHz, \n",
      "as this is adequate for many typical applications, enabling low power current \n",
      "consumption in the micro Ampere range. They will generally have the ability to retain \n",
      "functionality while waiting for an event such as a button press or other interrupt; power \n",
      "consumption while sleeping (CPU clock and most peripherals off) may just be nanowatts, \n",
      "making many of them well suited for long lasting battery applications.  \n",
      " \n",
      "Other microcontrollers may serve performance-critical roles, where they may need to act \n",
      "more like a digital signal processor (DSP), with higher clock speeds and power \n",
      "consumption. Microcontrollers are used in automatic ally controlled products and devices, \n",
      "such as automobile engine control systems, implantable medical devices, remote controls, office machines, appliances, power tools and toys.  \n",
      " \n",
      "By reducing the size and cost compared to a design that uses a separate micr o-\n",
      "processor, memory, and input/output devices, microcontrollers make it economical to \n",
      "digitally control even more devices and processes. \n",
      " \n",
      "Mixed signal microcontrollers are common, integrating analogue components needed to \n",
      "control non- digital electronic sys tems. \n",
      " \n",
      " \n",
      " \n",
      " \n",
      " \n",
      "  \n",
      " \n",
      " \n",
      " \n",
      " \n",
      "  \n",
      " \n",
      "  \n",
      " \n",
      " \n"
     ]
    }
   ],
   "source": [
    "pdfObj = open(\"D:\\MyStuffs\\PythonScripts\\JunpyterNotebooks\\Verbose\\pdfs\\MAPP BoundNotes.pdf\", \"rb\")\n",
    "pdfReader = PyPDF2.PdfReader(pdfObj)\n",
    "text = pdfReader.pages[7].extract_text()\n",
    "text.replace(\"\\n\", \" \")\n",
    "\n",
    "print(text)"
   ]
  },
  {
   "cell_type": "code",
   "execution_count": 3,
   "id": "8c29ba9e",
   "metadata": {},
   "outputs": [
    {
     "name": "stdout",
     "output_type": "stream",
     "text": [
      "[('microcontrollers', 0.7208), ('microcontroller', 0.7146), ('microcontroller applications', 0.6863), ('micro controller', 0.6626), ('other microcontrollers', 0.6414)]\n"
     ]
    }
   ],
   "source": [
    "kw_model = KeyBERT()\n",
    "words = kw_model.extract_keywords(docs=[text], vectorizer=KeyphraseCountVectorizer())\n",
    "\n",
    "print(words)"
   ]
  },
  {
   "cell_type": "code",
   "execution_count": 5,
   "id": "3159b1dc",
   "metadata": {},
   "outputs": [
    {
     "name": "stderr",
     "output_type": "stream",
     "text": [
      "No model was supplied, defaulted to distilbert-base-cased-distilled-squad and revision 626af31 (https://huggingface.co/distilbert-base-cased-distilled-squad).\n",
      "Using a pipeline without specifying a model name and revision in production is not recommended.\n"
     ]
    },
    {
     "name": "stdout",
     "output_type": "stream",
     "text": [
      "microcontrollers\n"
     ]
    }
   ],
   "source": [
    "question_answerer = pipeline(\"question-answering\")\n",
    "\n",
    "topic = words[0][0]\n",
    "print(topic)"
   ]
  },
  {
   "cell_type": "code",
   "execution_count": 12,
   "id": "37cd93c4",
   "metadata": {},
   "outputs": [
    {
     "name": "stdout",
     "output_type": "stream",
     "text": [
      "{'score': 0.18291381001472473, 'start': 317, 'end': 364, 'answer': 'a small computer on a single integrated circuit'}\n"
     ]
    }
   ],
   "source": [
    "answer = question_answerer(question=f\"What is {topic}\", context=text)\n",
    "print(answer)"
   ]
  },
  {
   "cell_type": "code",
   "execution_count": 13,
   "id": "c2f3939b",
   "metadata": {},
   "outputs": [
    {
     "name": "stdout",
     "output_type": "stream",
     "text": [
      "1 What is a micro controller?  \n",
      " \n",
      "A microcontroller (MCU or µ C) is a small computer on a single integrated circuit (IC) \n",
      "consisting internally of a relatively simple CPU, clock, timers, I/O ports and memory \n",
      "(program memory in the form of flash, and a small amount of data memory in the form of \n",
      "RAM)\n"
     ]
    }
   ],
   "source": [
    "sentences = text.split(\".\")\n",
    "for sentence in sentences:\n",
    "    if (answer['answer'] in sentence):\n",
    "        print(sentence)\n",
    "        break"
   ]
  },
  {
   "cell_type": "code",
   "execution_count": null,
   "id": "79db946f",
   "metadata": {},
   "outputs": [],
   "source": []
  }
 ],
 "metadata": {
  "kernelspec": {
   "display_name": "Python 3 (ipykernel)",
   "language": "python",
   "name": "python3"
  },
  "language_info": {
   "codemirror_mode": {
    "name": "ipython",
    "version": 3
   },
   "file_extension": ".py",
   "mimetype": "text/x-python",
   "name": "python",
   "nbconvert_exporter": "python",
   "pygments_lexer": "ipython3",
   "version": "3.9.8"
  }
 },
 "nbformat": 4,
 "nbformat_minor": 5
}
