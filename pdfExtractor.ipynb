{
 "cells": [
  {
   "cell_type": "code",
   "execution_count": 7,
   "id": "737406f2",
   "metadata": {},
   "outputs": [],
   "source": [
    "from pdfminer.high_level import extract_text"
   ]
  },
  {
   "cell_type": "code",
   "execution_count": 12,
   "id": "25c5bc0d",
   "metadata": {},
   "outputs": [],
   "source": [
    "text = extract_text(\"D:\\MyStuffs\\PythonScripts\\JunpyterNotebooks\\Verbose\\pdfs\\Topic_2_PPT.pdf\").replace(\"\\n\", \" \")"
   ]
  },
  {
   "cell_type": "code",
   "execution_count": 13,
   "id": "86bf706e",
   "metadata": {},
   "outputs": [
    {
     "data": {
      "text/plain": [
       "\"Topic 2:  Introduction to Pharmacodynamics  1  \\x0cPharmacology – An overview  2  \\x0cDrugs act on cells  Cytoplasm : encloses the contents of the cell  Nucleus :acts as the 'control centre' of the cell. -contains the genetic code, DNA and blueprints for construction of all the cell's proteins .  Boundary wall called the cell membrane : made up of phospholipids and proteins.  3  \\x0cBiological targets of drugs  \\uf097 Receptors \\uf097 Enzymes  Proteins  Drug  4  \\x0cReceptors Receptors are proteins usually on the cell membrane that  are involved in communication and coordination between  and within cells.   Video  5  \\x0cEnzymes Enzymes are proteins that catalyze chemical reactions in the  cell.   6  \\x0cActive Site  Where drug binds  Video – changes in protein conformation  7  \\x0cDrug Receptor Theory  Molecules that interact with receptors are called ligands. Each receptor commonly has at least 1 naturally occurring ligand that interacts with its binding site. This is called the ligand binding site. When a ligand binds, it switches on the receptor and a message is propagated.  8  \\x0cit changes the shape of the receptor When the ligand binds, protein once it has binds into the binding site. It does not fit the binding site exactly. Instead, as it binds at the site, various attractions between the ligand the functional groups on the binding site pull toward each other, distorting the shape of the rest of the protein.  Effect of a ligand-receptor interaction:  • Activation of a membrane bound enzyme.  9  \\x0c• Release of secondary messengers within the cell’s   membrane which migrate to other parts of the membrane and  either activate or inhibit further enzymes  Video  G-Protein  10  \\x0c• Open (or close) an ion channel through the membrane,   allowing hydrophilic ions to pass through the hydrophobic cell  membrane.  Video  Video2  11  \\x0cAgonist vs Antagonist \\uf097 Agonists and antagonists are ligands of a receptor.  \\uf097 Most drugs that you see in the market are either agonists   or antagonists of either receptors, or enzymes.  Natural ligand = endogenous ligand  12  \\x0cAgonist \\uf097 Agonists often have structures that are similar to that   of the endogenous ligand.   \\uf097 Endogenous ligands are naturally occurring molecules   in the body that have innate biological functions.  \\uf097 An agonist is a molecule that gives rise to biological   effect. It mimics the endogenous ligand.   \\uf097 Both endogenous ligand and agonists produces   similar biological effect.   \\uf097 When the biological response is lacking in a   disease, an agonist drug can restore the biological  function.  13  \\x0cAntagonist  \\uf097 Binds to the receptor but does not produce a   biological effect.   \\uf097 Prevents the binding of the endogenous ligand or   agonist.  \\uf097 Blocks the action of a receptor. This would reduce the   effect of an endogenous ligand.   \\uf097 When the biological response is too   overwhelming, a drug that serves as an  antagonist would restore the biological function.  14  \\x0cDifference between Biological Effect and Biological Response  15  \\x0cCompetitive vs Non-competitive Antagonists / Inhibitors  Competitive  Non-competitive  16  \\x0cSummary of Agonist & Antagonists  17  \\x0cSummary  Competitive  Non-competitive  Agonist  Antagonist  • Activation of Membrane-bound enzyme • Release of Secondary Messengers • Open/Close Ion-channels  18  \\x0c• Activation of membrane   bound enzyme • Endogenous ligand • Non-competitive   Antagonist  19  \\x0c• Opening Ion Channel • Endogenous ligand • Competitive Antagonist  20  \\x0c• Release of secondary   messengers  • Agonist • Competitive Antagonist  21  \\x0cPharmacodynamics of drug binding  The binding of a drug molecule to the active site of a receptor is  classified into 2 types: Irreversible binding and reversible binding.  Irreversible binding   \\uf0fcInvolves strong covalent bonds \\uf0fcDrug molecule cannot detach from the receptor active site  Drug + Receptor   (Drug – Receptor) Complex  22  \\x0cReversible binding  \\uf0fcInvolves ionic interaction, hydrogen bonds, ion dipole interactions,  van der waals interactions and permanent dipole interacts. \\uf0fcDrug molecule can be unbound from the active site because drug  binding and unbinding is in an equilibrium process.  Drug + Receptor   (Drug – Receptor) Complex  Le Chatelier’s principle?  Biological Effect  Why is it much more favourable to have a drug that binds reversibly at  the receptor?  Why do potent drugs usually require a lower dose and weaker drug  require a higher dose?  23  \\x0cWhy do potent drugs usually require a lower dose and weaker drug  require a higher dose?  Strong Drug A  Drug + Receptor  (Drug – Receptor) Complex  Drug + Receptor  (Drug – Receptor) Complex  Weak Drug B  24  \\x0c\\uf097 The strength of the interaction between a drug  molecule and its receptor can be determined the  equilibrium constant , Kd for the interaction:  Kd reflects how strong the drug molecule have bound.  Drug + Receptor   (Drug – Receptor) Complex  Kd (Dissociation reaction – backward reaction)  25  \\x0cDose Response Curve  Copy the graph on to your lecture notes  26  \\x0cDose Response Curve  \\uf097 EC50 = The plasma drug concentration required to  achieve 50% of the maximum biological response. \\uf097 ED50 = The effective dose required to achieve 50% of   the maximum biological response.  \\uf097 Question 1: If I have 2 similar agonists “A” and “B” and the dose response  curve of drug A is provided in figure 2.12, how would the graph of B look  like if B is a more potent drug? [Assuming that both give the same  maximum biological response]  27  \\x0cThe lower the EC50 value,  the stronger the agonist  28  \\x0c\\uf097 Question 2: How would a dose response curve of an antagonist drug look like?  The lower the IC50 value,  the stronger the antagonist  29  \\x0c\\uf097 IC50 (half maximal inhibitory concentration) is the  concentration of the drug required to achieve 50%  inhibition. This applies for competitive enzyme  inhibitors and competitive antagonists.   \\uf097 Question 3: If I have 2 similar antagonists “A” and “B”, and B is a   stronger antagonist than A, how would the dose response curve look  like? Indicate in your graph above.  30  \\x0cSummary  Agonist vs Antagonist Competitive vs Non-competitive  Chemistry  • • •  Activation of Membrane-bound enzyme Release of Secondary Messengers Open/Close Ion-channels  Drug + Receptor  (Drug – Receptor) Complex  Intermolecular Interactions (Next Topic)  (Drug Topics)  ∑ (Signals)  Biological Effect  Biological Response  Biology  31  \\x0c\""
      ]
     },
     "execution_count": 13,
     "metadata": {},
     "output_type": "execute_result"
    }
   ],
   "source": [
    "text"
   ]
  },
  {
   "cell_type": "code",
   "execution_count": 6,
   "id": "66bc5e57",
   "metadata": {
    "scrolled": true
   },
   "outputs": [
    {
     "name": "stdout",
     "output_type": "stream",
     "text": [
      "(2494, 35, 1)\n",
      "(2494, 1)\n"
     ]
    }
   ],
   "source": [
    "import PyPDF2\n",
    "import re\n",
    "import numpy as np\n",
    "from tensorflow.keras.preprocessing.text import Tokenizer\n",
    "\n",
    "indexOfKeywords = []\n",
    "allWords = []\n",
    "\n",
    "maxWordLength = 35\n",
    "\n",
    "t= Tokenizer()\n",
    "t.fit_on_texts(\"1234567890abcdefghijklmnopqrstuvwxyz\")\n",
    "\n",
    "pdfObj = open(\"D:\\MyStuffs\\PythonScripts\\JunpyterNotebooks\\Verbose\\pdfs\\MAPP BoundNotes Edited.pdf\", \"rb\")\n",
    "pdfReader = PyPDF2.PdfReader(pdfObj)\n",
    "offset = 0\n",
    "for i in range(7, 15):\n",
    "    text = pdfReader.pages[i].extract_text().lower()\n",
    "    text = re.sub(r'[^a-z0-9 ;]', \"\", text)\n",
    "    splitted = text.split(\" \")    \n",
    "    for index, word in enumerate(splitted):\n",
    "        if (\";;\" in word):\n",
    "            indexOfKeywords.append(index + offset)\n",
    "            word = word.replace(\";;\", \"\")\n",
    "        intList = t.texts_to_sequences(word)\n",
    "        for letter in intList:              \n",
    "            if (letter == []):\n",
    "                letter = [0]\n",
    "            allWords += letter        \n",
    "        allWords += [0] * (maxWordLength- len(intList))        \n",
    "    offset += len(splitted)\n",
    "\n",
    "X = np.array(allWords).reshape(-1, maxWordLength, 1)\n",
    "amount = float(len(\"1234567890abcdefghijklmnopqrstuvwxyz\"))\n",
    "npWords = X/amount\n",
    "print(X.shape)\n",
    "Y = np.zeros(len(X))\n",
    "for index in indexOfKeywords:\n",
    "    Y[index] = 1\n",
    "Y = Y.reshape(-1, 1)\n",
    "print(Y.shape)\n",
    "\n",
    "np.save(\"Y.npy\", Y)\n",
    "np.save(\"X.npy\", X)"
   ]
  },
  {
   "cell_type": "code",
   "execution_count": null,
   "id": "42490c9a",
   "metadata": {},
   "outputs": [],
   "source": []
  }
 ],
 "metadata": {
  "kernelspec": {
   "display_name": "Python 3 (ipykernel)",
   "language": "python",
   "name": "python3"
  },
  "language_info": {
   "codemirror_mode": {
    "name": "ipython",
    "version": 3
   },
   "file_extension": ".py",
   "mimetype": "text/x-python",
   "name": "python",
   "nbconvert_exporter": "python",
   "pygments_lexer": "ipython3",
   "version": "3.10.9"
  }
 },
 "nbformat": 4,
 "nbformat_minor": 5
}
